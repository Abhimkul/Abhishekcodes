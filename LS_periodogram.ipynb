{
 "cells": [
  {
   "cell_type": "code",
   "execution_count": 1,
   "metadata": {},
   "outputs": [
    {
     "name": "stderr",
     "output_type": "stream",
     "text": [
      "/home/abhi/.local/lib/python3.9/site-packages/lightkurve/prf/__init__.py:7: UserWarning: Warning: the tpfmodel submodule is not available without oktopus installed, which requires a current version of autograd. See #1452 for details.\n",
      "  warnings.warn(\n"
     ]
    }
   ],
   "source": [
    "import numpy as np\n",
    "import pandas as pd\n",
    "import lightkurve\n",
    "from lightkurve import search_lightcurve\n",
    "import os\n",
    "import matplotlib.pyplot as plot"
   ]
  },
  {
   "cell_type": "code",
   "execution_count": 2,
   "metadata": {},
   "outputs": [],
   "source": [
    "#Getting the Data\n",
    "file = os.chdir(\"/home/abhi/Desktop/eROSITA/\")\n",
    "data = pd.read_csv(\"Final_CV\")\n",
    "source_id = data[\"id\"].to_numpy()\n",
    "RA = data[\"RA (deg)\"].to_numpy()\n",
    "DEC = data[\"DEC (deg)\"].to_numpy()"
   ]
  },
  {
   "cell_type": "code",
   "execution_count": 3,
   "metadata": {},
   "outputs": [
    {
     "data": {
      "text/plain": [
       "(array([258.1517557 ,   0.47974481,  28.50380939,  29.15564592,\n",
       "         32.46207903,  37.71343537,  43.90871958,  52.77448393,\n",
       "         55.72570905,  62.29817562,  62.78869616,  68.79032795,\n",
       "         75.11354174,  75.95525004,  82.35641652,  85.83473589,\n",
       "         97.47455662, 100.198558  , 103.2987834 , 116.2414149 ,\n",
       "        117.8221581 , 119.7208831 , 118.7716745 , 122.941922  ,\n",
       "        120.320928  , 123.1058753 , 129.6805507 , 131.1395722 ,\n",
       "        126.5978903 , 166.810708  , 174.6113695 , 176.3382679 ,\n",
       "        178.0998356 , 189.8832793 , 195.2399125 , 202.9745816 ,\n",
       "        202.8311055 , 207.3445947 , 227.3583767 , 232.5915488 ,\n",
       "        239.0087296 , 240.6395807 , 243.8121592 , 250.555166  ,\n",
       "        259.6997434 , 318.9212459 ,  27.26937673,  39.04767635,\n",
       "         43.88861195,  53.33600154,  70.419766  ,  81.23352487,\n",
       "         78.41274159,  83.99676221,  94.18009715,  95.91672945,\n",
       "        108.4205066 , 110.1218394 , 119.5537665 , 137.4605365 ,\n",
       "        168.499818  , 192.194903  , 190.8580573 , 192.1992104 ,\n",
       "        240.6406433 , 252.6163047 , 269.8186697 , 321.9006076 ]),\n",
       " array([-24.24575953, -67.12870945, -59.79700653, -83.97621365,\n",
       "        -63.31101033, -68.70150258, -22.78417859, -21.00899078,\n",
       "        -49.05992297, -71.29482354, -59.18785156, -75.46215336,\n",
       "         13.57224104, -28.38554696, -32.8176538 , -41.03194608,\n",
       "         -3.58567863, -24.38708857, -67.61178752, -52.95380766,\n",
       "         14.74000409,  16.27921304,  22.00122757, -35.35137461,\n",
       "        -46.39095905, -71.24369501, -28.4502639 , -37.96399577,\n",
       "        -70.52862755, -55.96221125,   3.36835917,  -4.43504235,\n",
       "        -67.64114711,  21.13507064, -49.20346093, -29.68309737,\n",
       "        -54.97604218,  10.5907719 , -66.82314589, -75.74427152,\n",
       "        -52.26701203, -60.5473354 , -28.62583919, -23.22045942,\n",
       "        -73.41966946, -58.68178399, -74.8131053 , -52.32052647,\n",
       "        -47.84515474, -44.86170068, -76.61264793,  17.06625116,\n",
       "         -3.62202701,  -6.27503439,  15.40311457, -26.96405757,\n",
       "         27.51693306,  23.66860142, -43.37147254,  18.82977292,\n",
       "        -37.67993156, -54.29342213,   2.92969399, -56.59421479,\n",
       "        -62.62863766, -28.13284943, -42.58522403, -50.24957727]))"
      ]
     },
     "execution_count": 3,
     "metadata": {},
     "output_type": "execute_result"
    }
   ],
   "source": [
    "RA,DEC"
   ]
  },
  {
   "cell_type": "code",
   "execution_count": 6,
   "metadata": {},
   "outputs": [
    {
     "name": "stdout",
     "output_type": "stream",
     "text": [
      "Period of the source: 0.056685884135694885 d\n"
     ]
    },
    {
     "name": "stderr",
     "output_type": "stream",
     "text": [
      "/home/abhi/.local/lib/python3.9/site-packages/lightkurve/lightcurve.py:1154: LightkurveWarning: The light curve appears to be zero-centered (median=6.40e+03 ppm +/- 7.55e+05 ppm); `normalize()` will divide the light curve by a value close to zero, which is probably not what you want.\n",
      "  warnings.warn(\n",
      "/home/abhi/.local/lib/python3.9/site-packages/lightkurve/lightcurve.py:1154: LightkurveWarning: The light curve appears to be zero-centered (median=6.31e+03 ppm +/- 1.35e+05 ppm); `normalize()` will divide the light curve by a value close to zero, which is probably not what you want.\n",
      "  warnings.warn(\n",
      "/home/abhi/.local/lib/python3.9/site-packages/lightkurve/lightcurve.py:1154: LightkurveWarning: The light curve appears to be zero-centered (median=-1.11e-10 ppm +/- 4.84e+04 ppm); `normalize()` will divide the light curve by a value close to zero, which is probably not what you want.\n",
      "  warnings.warn(\n",
      "/home/abhi/.local/lib/python3.9/site-packages/lightkurve/lightcurve.py:1165: LightkurveWarning: The light curve has a negative median flux (-1.11e-10 ppm); `normalize()` will therefore divide by a negative number and invert the light curve, which is probablynot what you want\n",
      "  warnings.warn(\n",
      "/home/abhi/.local/lib/python3.9/site-packages/lightkurve/lightcurve.py:1154: LightkurveWarning: The light curve appears to be zero-centered (median=0.00e+00 ppm +/- 4.71e+04 ppm); `normalize()` will divide the light curve by a value close to zero, which is probably not what you want.\n",
      "  warnings.warn(\n",
      "/home/abhi/.local/lib/python3.9/site-packages/astropy/utils/masked/core.py:855: RuntimeWarning: divide by zero encountered in true_divide\n",
      "  result = getattr(ufunc, method)(*unmasked, **kwargs)\n",
      "/home/abhi/.local/lib/python3.9/site-packages/astropy/utils/masked/core.py:855: RuntimeWarning: invalid value encountered in true_divide\n",
      "  result = getattr(ufunc, method)(*unmasked, **kwargs)\n",
      "/home/abhi/.local/lib/python3.9/site-packages/lightkurve/lightcurve.py:1154: LightkurveWarning: The light curve appears to be zero-centered (median=6.23e+03 ppm +/- 3.66e+04 ppm); `normalize()` will divide the light curve by a value close to zero, which is probably not what you want.\n",
      "  warnings.warn(\n",
      "/home/abhi/.local/lib/python3.9/site-packages/lightkurve/lightcurve.py:1154: LightkurveWarning: The light curve appears to be zero-centered (median=6.32e+03 ppm +/- 3.73e+04 ppm); `normalize()` will divide the light curve by a value close to zero, which is probably not what you want.\n",
      "  warnings.warn(\n",
      "/home/abhi/.local/lib/python3.9/site-packages/lightkurve/collections.py:212: LightkurveWarning: The following columns will be excluded from stitching because the column types are incompatible: {'sap_bkg_err', 'sap_bkg', 'sap_flux'}\n",
      "  warnings.warn(\n",
      "/home/abhi/.local/lib/python3.9/site-packages/astropy/utils/masked/core.py:855: RuntimeWarning: invalid value encountered in reduce\n",
      "  result = getattr(ufunc, method)(*unmasked, **kwargs)\n",
      "/home/abhi/.local/lib/python3.9/site-packages/astropy/utils/masked/core.py:855: RuntimeWarning: invalid value encountered in true_divide\n",
      "  result = getattr(ufunc, method)(*unmasked, **kwargs)\n"
     ]
    },
    {
     "ename": "ValueError",
     "evalue": "cannot reshape array of size 0 into shape (0,newaxis)",
     "output_type": "error",
     "traceback": [
      "\u001b[0;31m---------------------------------------------------------------------------\u001b[0m",
      "\u001b[0;31mValueError\u001b[0m                                Traceback (most recent call last)",
      "Cell \u001b[0;32mIn[6], line 4\u001b[0m\n\u001b[1;32m      2\u001b[0m \u001b[38;5;28;01mfor\u001b[39;00m i \u001b[38;5;129;01min\u001b[39;00m \u001b[38;5;28mrange\u001b[39m(\u001b[38;5;241m13\u001b[39m,\u001b[38;5;241m68\u001b[39m):\n\u001b[1;32m      3\u001b[0m     lc \u001b[38;5;241m=\u001b[39m search_lightcurve(\u001b[38;5;124mf\u001b[39m\u001b[38;5;124m\"\u001b[39m\u001b[38;5;132;01m{\u001b[39;00mRA[i]\u001b[38;5;132;01m}\u001b[39;00m\u001b[38;5;124m \u001b[39m\u001b[38;5;132;01m{\u001b[39;00mDEC[i]\u001b[38;5;132;01m}\u001b[39;00m\u001b[38;5;124m\"\u001b[39m, radius\u001b[38;5;241m=\u001b[39m\u001b[38;5;241m0.02\u001b[39m, mission\u001b[38;5;241m=\u001b[39m\u001b[38;5;124m\"\u001b[39m\u001b[38;5;124mTESS\u001b[39m\u001b[38;5;124m\"\u001b[39m)\u001b[38;5;241m.\u001b[39mdownload_all()\n\u001b[0;32m----> 4\u001b[0m     lc \u001b[38;5;241m=\u001b[39m \u001b[43mlc\u001b[49m\u001b[38;5;241;43m.\u001b[39;49m\u001b[43mstitch\u001b[49m\u001b[43m(\u001b[49m\u001b[43m)\u001b[49m\u001b[38;5;241;43m.\u001b[39;49m\u001b[43mremove_nans\u001b[49m\u001b[43m(\u001b[49m\u001b[43m)\u001b[49m\u001b[38;5;241;43m.\u001b[39;49m\u001b[43mnormalize\u001b[49m\u001b[43m(\u001b[49m\u001b[43m)\u001b[49m\u001b[38;5;241;43m.\u001b[39;49m\u001b[43mflatten\u001b[49m\u001b[43m(\u001b[49m\u001b[43mwindow_length\u001b[49m\u001b[38;5;241;43m=\u001b[39;49m\u001b[38;5;241;43m401\u001b[39;49m\u001b[43m)\u001b[49m\n\u001b[1;32m      5\u001b[0m     \u001b[38;5;66;03m#lc.plot()\u001b[39;00m\n\u001b[1;32m      6\u001b[0m     pg \u001b[38;5;241m=\u001b[39m lc\u001b[38;5;241m.\u001b[39mto_periodogram(method\u001b[38;5;241m=\u001b[39m\u001b[38;5;124m'\u001b[39m\u001b[38;5;124mlombscargle\u001b[39m\u001b[38;5;124m'\u001b[39m)\n",
      "File \u001b[0;32m~/.local/lib/python3.9/site-packages/lightkurve/lightcurve.py:947\u001b[0m, in \u001b[0;36mLightCurve.flatten\u001b[0;34m(self, window_length, polyorder, return_trend, break_tolerance, niters, sigma, mask, **kwargs)\u001b[0m\n\u001b[1;32m    941\u001b[0m \u001b[38;5;66;03m# Ignore outliers; note we add `1e-14` below to avoid detecting\u001b[39;00m\n\u001b[1;32m    942\u001b[0m \u001b[38;5;66;03m# outliers which are merely caused by numerical noise.\u001b[39;00m\n\u001b[1;32m    943\u001b[0m mask1 \u001b[38;5;241m=\u001b[39m np\u001b[38;5;241m.\u001b[39mnan_to_num(np\u001b[38;5;241m.\u001b[39mabs(\u001b[38;5;28mself\u001b[39m\u001b[38;5;241m.\u001b[39mflux[mask] \u001b[38;5;241m-\u001b[39m trend_signal)) \u001b[38;5;241m<\u001b[39m (\n\u001b[1;32m    944\u001b[0m     np\u001b[38;5;241m.\u001b[39mnanstd(\u001b[38;5;28mself\u001b[39m\u001b[38;5;241m.\u001b[39mflux[mask] \u001b[38;5;241m-\u001b[39m trend_signal) \u001b[38;5;241m*\u001b[39m sigma\n\u001b[1;32m    945\u001b[0m     \u001b[38;5;241m+\u001b[39m Quantity(\u001b[38;5;241m1e-14\u001b[39m, \u001b[38;5;28mself\u001b[39m\u001b[38;5;241m.\u001b[39mflux\u001b[38;5;241m.\u001b[39munit)\n\u001b[1;32m    946\u001b[0m )\n\u001b[0;32m--> 947\u001b[0m f \u001b[38;5;241m=\u001b[39m \u001b[43minterp1d\u001b[49m\u001b[43m(\u001b[49m\n\u001b[1;32m    948\u001b[0m \u001b[43m    \u001b[49m\u001b[38;5;28;43mself\u001b[39;49m\u001b[38;5;241;43m.\u001b[39;49m\u001b[43mtime\u001b[49m\u001b[38;5;241;43m.\u001b[39;49m\u001b[43mvalue\u001b[49m\u001b[43m[\u001b[49m\u001b[43mmask\u001b[49m\u001b[43m]\u001b[49m\u001b[43m[\u001b[49m\u001b[43mmask1\u001b[49m\u001b[43m]\u001b[49m\u001b[43m,\u001b[49m\n\u001b[1;32m    949\u001b[0m \u001b[43m    \u001b[49m\u001b[43mtrend_signal\u001b[49m\u001b[43m[\u001b[49m\u001b[43mmask1\u001b[49m\u001b[43m]\u001b[49m\u001b[43m,\u001b[49m\n\u001b[1;32m    950\u001b[0m \u001b[43m    \u001b[49m\u001b[43mfill_value\u001b[49m\u001b[38;5;241;43m=\u001b[39;49m\u001b[38;5;124;43m\"\u001b[39;49m\u001b[38;5;124;43mextrapolate\u001b[39;49m\u001b[38;5;124;43m\"\u001b[39;49m\u001b[43m,\u001b[49m\n\u001b[1;32m    951\u001b[0m \u001b[43m\u001b[49m\u001b[43m)\u001b[49m\n\u001b[1;32m    952\u001b[0m trend_signal \u001b[38;5;241m=\u001b[39m Quantity(f(\u001b[38;5;28mself\u001b[39m\u001b[38;5;241m.\u001b[39mtime\u001b[38;5;241m.\u001b[39mvalue), \u001b[38;5;28mself\u001b[39m\u001b[38;5;241m.\u001b[39mflux\u001b[38;5;241m.\u001b[39munit)\n\u001b[1;32m    953\u001b[0m \u001b[38;5;66;03m# In astropy>=5.0, mask1 is a masked array\u001b[39;00m\n",
      "File \u001b[0;32m~/.local/lib/python3.9/site-packages/scipy/interpolate/interpolate.py:474\u001b[0m, in \u001b[0;36minterp1d.__init__\u001b[0;34m(self, x, y, kind, axis, copy, bounds_error, fill_value, assume_sorted)\u001b[0m\n\u001b[1;32m    472\u001b[0m \u001b[38;5;66;03m# Interpolation goes internally along the first axis\u001b[39;00m\n\u001b[1;32m    473\u001b[0m \u001b[38;5;28mself\u001b[39m\u001b[38;5;241m.\u001b[39my \u001b[38;5;241m=\u001b[39m y\n\u001b[0;32m--> 474\u001b[0m \u001b[38;5;28mself\u001b[39m\u001b[38;5;241m.\u001b[39m_y \u001b[38;5;241m=\u001b[39m \u001b[38;5;28;43mself\u001b[39;49m\u001b[38;5;241;43m.\u001b[39;49m\u001b[43m_reshape_yi\u001b[49m\u001b[43m(\u001b[49m\u001b[38;5;28;43mself\u001b[39;49m\u001b[38;5;241;43m.\u001b[39;49m\u001b[43my\u001b[49m\u001b[43m)\u001b[49m\n\u001b[1;32m    475\u001b[0m \u001b[38;5;28mself\u001b[39m\u001b[38;5;241m.\u001b[39mx \u001b[38;5;241m=\u001b[39m x\n\u001b[1;32m    476\u001b[0m \u001b[38;5;28;01mdel\u001b[39;00m y, x  \u001b[38;5;66;03m# clean up namespace to prevent misuse; use attributes\u001b[39;00m\n",
      "File \u001b[0;32m~/.local/lib/python3.9/site-packages/scipy/interpolate/polyint.py:110\u001b[0m, in \u001b[0;36m_Interpolator1D._reshape_yi\u001b[0;34m(self, yi, check)\u001b[0m\n\u001b[1;32m    107\u001b[0m     ok_shape \u001b[38;5;241m=\u001b[39m \u001b[38;5;124m\"\u001b[39m\u001b[38;5;132;01m%r\u001b[39;00m\u001b[38;5;124m + (N,) + \u001b[39m\u001b[38;5;132;01m%r\u001b[39;00m\u001b[38;5;124m\"\u001b[39m \u001b[38;5;241m%\u001b[39m (\u001b[38;5;28mself\u001b[39m\u001b[38;5;241m.\u001b[39m_y_extra_shape[\u001b[38;5;241m-\u001b[39m\u001b[38;5;28mself\u001b[39m\u001b[38;5;241m.\u001b[39m_y_axis:],\n\u001b[1;32m    108\u001b[0m                                    \u001b[38;5;28mself\u001b[39m\u001b[38;5;241m.\u001b[39m_y_extra_shape[:\u001b[38;5;241m-\u001b[39m\u001b[38;5;28mself\u001b[39m\u001b[38;5;241m.\u001b[39m_y_axis])\n\u001b[1;32m    109\u001b[0m     \u001b[38;5;28;01mraise\u001b[39;00m \u001b[38;5;167;01mValueError\u001b[39;00m(\u001b[38;5;124m\"\u001b[39m\u001b[38;5;124mData must be of shape \u001b[39m\u001b[38;5;132;01m%s\u001b[39;00m\u001b[38;5;124m\"\u001b[39m \u001b[38;5;241m%\u001b[39m ok_shape)\n\u001b[0;32m--> 110\u001b[0m \u001b[38;5;28;01mreturn\u001b[39;00m \u001b[43myi\u001b[49m\u001b[38;5;241;43m.\u001b[39;49m\u001b[43mreshape\u001b[49m\u001b[43m(\u001b[49m\u001b[43m(\u001b[49m\u001b[43myi\u001b[49m\u001b[38;5;241;43m.\u001b[39;49m\u001b[43mshape\u001b[49m\u001b[43m[\u001b[49m\u001b[38;5;241;43m0\u001b[39;49m\u001b[43m]\u001b[49m\u001b[43m,\u001b[49m\u001b[43m \u001b[49m\u001b[38;5;241;43m-\u001b[39;49m\u001b[38;5;241;43m1\u001b[39;49m\u001b[43m)\u001b[49m\u001b[43m)\u001b[49m\n",
      "\u001b[0;31mValueError\u001b[0m: cannot reshape array of size 0 into shape (0,newaxis)"
     ]
    }
   ],
   "source": [
    "#Light curve and Periodogram\n",
    "for i in range(13,68):\n",
    "    lc = search_lightcurve(f\"{RA[i]} {DEC[i]}\", radius=0.02, mission=\"TESS\").download_all()\n",
    "    lc = lc.stitch().remove_nans().normalize().flatten(window_length=401)\n",
    "    #lc.plot()\n",
    "    pg = lc.to_periodogram(method='lombscargle')\n",
    "    print(\"Period of the source:\", pg.period_at_max_power)\n",
    "    # pg.plot()\n",
    "    # plot.show()\n",
    "    #lc.plot()"
   ]
  }
 ],
 "metadata": {
  "kernelspec": {
   "display_name": "Python 3",
   "language": "python",
   "name": "python3"
  },
  "language_info": {
   "codemirror_mode": {
    "name": "ipython",
    "version": 3
   },
   "file_extension": ".py",
   "mimetype": "text/x-python",
   "name": "python",
   "nbconvert_exporter": "python",
   "pygments_lexer": "ipython3",
   "version": "3.9.7"
  }
 },
 "nbformat": 4,
 "nbformat_minor": 2
}
