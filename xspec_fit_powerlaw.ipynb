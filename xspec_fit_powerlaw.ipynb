{
 "cells": [
  {
   "cell_type": "code",
   "execution_count": 1,
   "id": "01e631d1-71b5-4cfc-ac1a-0536f24d5877",
   "metadata": {},
   "outputs": [],
   "source": [
    "import xspec\n",
    "import numpy as np\n",
    "import matplotlib.pyplot as plot\n",
    "from scipy.interpolate import interp1d\n",
    "from scipy.optimize import minimize\n",
    "from scipy.optimize import curve_fit"
   ]
  },
  {
   "cell_type": "code",
   "execution_count": 4,
   "id": "4a856721-618f-44e5-921d-0b4052eee675",
   "metadata": {},
   "outputs": [
    {
     "name": "stdout",
     "output_type": "stream",
     "text": [
      "\n",
      "Spectrum #: 1 replaced \n",
      "\n",
      "1 spectrum  in use\n",
      " \n",
      "Spectral Data File: spec_grp_1.pi  Spectrum 1\n",
      "Net count rate (cts/s) for Spectrum:1  4.098e-01 +/- 4.637e-02 (91.2 % total)\n",
      " Assigned to Data Group 1 and Plot Group 1\n",
      "  Noticed Channels:  1-282\n",
      "  Telescope: eROSITA Instrument: MERGED  Channel Type: PI\n",
      "  Exposure Time: 209.2 sec\n",
      " Using fit statistic: chi\n",
      " Using Background File                ./en01_079066_020_BackgrSpec_00008_c010.fits\n",
      "  Background Exposure Time: 209.2 sec\n",
      " Using Response (RMF) File            ./en01_079066_020_RMF_00008_c010.fits for Source 1\n",
      " Using Auxiliary Response (ARF) File  ./en01_079066_020_ARF_00008_c010.fits\n",
      "\n"
     ]
    }
   ],
   "source": [
    "xspec.AllData(\"spec_grp_1.pi\")\n",
    "xspec.Plot(\"data\")\n",
    "xspec.Plot.xAxis = \"keV\"\n",
    "\n",
    "x_values = xspec.Plot.x()\n",
    "y_values = xspec.Plot.y()\n",
    "y_error = np.array(xspec.Plot.yErr())\n",
    "x_error = np.array(xspec.Plot.xErr())"
   ]
  },
  {
   "cell_type": "code",
   "execution_count": 5,
   "id": "7931ccc2",
   "metadata": {},
   "outputs": [
    {
     "data": {
      "image/png": "[encoded data removed]",
      "text/plain": [
       "<Figure size 640x480 with 1 Axes>"
      ]
     },
     "metadata": {},
     "output_type": "display_data"
    }
   ],
   "source": [
    "plot.errorbar(x_values,y_values,xerr = x_error, yerr = y_error)\n",
    "plot.xscale(\"log\")\n",
    "plot.yscale(\"log\")"
   ]
  },
  {
   "cell_type": "code",
   "execution_count": 6,
   "id": "cbdd2b34",
   "metadata": {},
   "outputs": [],
   "source": [
    "#Column Stacking X and Removing negative and zero counts\n",
    "x = np.log10(x_values)\n",
    "y = y_values\n",
    "\n",
    "X1 = np.column_stack((x,y))\n",
    "X = []\n",
    "for i in X1:\n",
    "    if i[-1] != 0 and np.all(i > 0):  \n",
    "        X.append(i)\n",
    "        #y_val = np.array(y_val)\n",
    "X= np.array(X)"
   ]
  },
  {
   "cell_type": "code",
   "execution_count": 7,
   "id": "6994defb",
   "metadata": {},
   "outputs": [
    {
     "data": {
      "image/png": "[encoded data removed]",
      "text/plain": [
       "<Figure size 640x480 with 1 Axes>"
      ]
     },
     "metadata": {},
     "output_type": "display_data"
    }
   ],
   "source": [
    "#Plotting the final plot\n",
    "energy =  X[:,0]\n",
    "counts = X[:,1]\n",
    "plot.scatter(energy,counts)\n",
    "plot.xscale(\"log\")\n",
    "plot.yscale(\"log\")"
   ]
  },
  {
   "cell_type": "code",
   "execution_count": 8,
   "id": "dd9ed16a",
   "metadata": {},
   "outputs": [
    {
     "data": {
      "text/plain": [
       "(0.3258984375, array(0.66535981))"
      ]
     },
     "execution_count": 8,
     "metadata": {},
     "output_type": "execute_result"
    }
   ],
   "source": [
    "##Doing interpolation to find Ep through minimization \n",
    "f = interp1d(energy,counts, kind = \"cubic\", fill_value=\"extrapolate\")\n",
    "\n",
    "def f1(x):\n",
    "    if energy.min() <= x <= energy.max():  \n",
    "        return -f(x)\n",
    "\n",
    "Ep = minimize(f1,x0 = 0.3,method = \"Nelder-Mead\").x[0]\n",
    "Cp = f(Ep)\n",
    "Ep, Cp"
   ]
  },
  {
   "cell_type": "code",
   "execution_count": 11,
   "id": "c1a35f6f",
   "metadata": {},
   "outputs": [
    {
     "name": "stdout",
     "output_type": "stream",
     "text": [
      "\n",
      "========================================================================\n",
      "Model bknpower<1> Source No.: 1   Active/On\n",
      "Model Model Component  Parameter  Unit     Value\n",
      " par  comp\n",
      "   1    1   bknpower   PhoIndx1            1.00000      +/-  0.0          \n",
      "   2    1   bknpower   BreakE     keV      5.00000      +/-  0.0          \n",
      "   3    1   bknpower   PhoIndx2            2.00000      +/-  0.0          \n",
      "   4    1   bknpower   norm                1.00000      +/-  0.0          \n",
      "________________________________________________________________________\n",
      "\n",
      "\n",
      "Fit statistic  : Chi-Squared              6.307021e+09     using 282 bins.\n",
      "\n",
      "***Warning: Chi-square may not be valid due to bins with zero variance\n",
      "            in spectrum number: 1\n",
      "\n",
      "Test statistic : Chi-Squared              6.307021e+09     using 282 bins.\n",
      "\n",
      "***Warning: Chi-square may not be valid due to bins with zero variance\n",
      "            in spectrum number(s): 1 \n",
      "\n",
      " Null hypothesis probability of 0.000000e+00 with 278 degrees of freedom\n",
      " Current data and model not fit yet.\n",
      "\n",
      "Fit statistic  : Chi-Squared              4.916010e+09     using 282 bins.\n",
      "\n",
      "***Warning: Chi-square may not be valid due to bins with zero variance\n",
      "            in spectrum number: 1\n",
      "\n",
      "Test statistic : Chi-Squared              4.916010e+09     using 282 bins.\n",
      "\n",
      "***Warning: Chi-square may not be valid due to bins with zero variance\n",
      "            in spectrum number(s): 1 \n",
      "\n",
      " Null hypothesis probability of 0.000000e+00 with 278 degrees of freedom\n",
      " Current data and model not fit yet.\n",
      "\n",
      "Fit statistic  : Chi-Squared              5.337416e+08     using 282 bins.\n",
      "\n",
      "***Warning: Chi-square may not be valid due to bins with zero variance\n",
      "            in spectrum number: 1\n",
      "\n",
      "Test statistic : Chi-Squared              5.337416e+08     using 282 bins.\n",
      "\n",
      "***Warning: Chi-square may not be valid due to bins with zero variance\n",
      "            in spectrum number(s): 1 \n",
      "\n",
      " Null hypothesis probability of 0.000000e+00 with 278 degrees of freedom\n",
      " Current data and model not fit yet.\n",
      "\n",
      "Fit statistic  : Chi-Squared              5.337416e+08     using 282 bins.\n",
      "\n",
      "***Warning: Chi-square may not be valid due to bins with zero variance\n",
      "            in spectrum number: 1\n",
      "\n",
      "Test statistic : Chi-Squared              5.337416e+08     using 282 bins.\n",
      "\n",
      "***Warning: Chi-square may not be valid due to bins with zero variance\n",
      "            in spectrum number(s): 1 \n",
      "\n",
      " Null hypothesis probability of 0.000000e+00 with 278 degrees of freedom\n",
      " Current data and model not fit yet.\n",
      "\n",
      "Fit statistic  : Chi-Squared              2.135180e+09     using 282 bins.\n",
      "\n",
      "***Warning: Chi-square may not be valid due to bins with zero variance\n",
      "            in spectrum number: 1\n",
      "\n",
      "Test statistic : Chi-Squared              2.135180e+09     using 282 bins.\n",
      "\n",
      "***Warning: Chi-square may not be valid due to bins with zero variance\n",
      "            in spectrum number(s): 1 \n",
      "\n",
      " Null hypothesis probability of 0.000000e+00 with 278 degrees of freedom\n",
      " Current data and model not fit yet.\n",
      "\n",
      "Fit statistic  : Chi-Squared              2.135180e+09     using 282 bins.\n",
      "\n",
      "***Warning: Chi-square may not be valid due to bins with zero variance\n",
      "            in spectrum number: 1\n",
      "\n",
      "Test statistic : Chi-Squared              2.135180e+09     using 282 bins.\n",
      "\n",
      "***Warning: Chi-square may not be valid due to bins with zero variance\n",
      "            in spectrum number(s): 1 \n",
      "\n",
      " Null hypothesis probability of 0.000000e+00 with 279 degrees of freedom\n",
      " Current data and model not fit yet.\n"
     ]
    }
   ],
   "source": [
    "#Fitting model (broken Power law) and initial parameters\n",
    "model = xspec.Model(\"bknpower\")\n",
    "\n",
    "#initiate params\n",
    "model.bknpower.PhoIndx1 = 0.5\n",
    "model.bknpower.BreakE = Ep\n",
    "model.bknpower.PhoIndx2 = 2 \n",
    "model.bknpower.norm = 2.00\n",
    "model.bknpower.BreakE.frozen = True\n",
    "#model.bknpower.norm.frozen = True"
   ]
  },
  {
   "cell_type": "code",
   "execution_count": 12,
   "id": "bf21f6f9",
   "metadata": {},
   "outputs": [
    {
     "name": "stdout",
     "output_type": "stream",
     "text": [
      "                                   Parameters\n",
      "Chi-Squared  |beta|/N    Lvl    1:PhoIndx1    3:PhoIndx2        4:norm\n",
      "203.605      0.615987      0      0.372418       1.25893   8.66911e-05\n",
      "202.918      1836.45       0      0.320453      0.951232   8.23219e-05\n",
      "202.898      1182.21       0      0.316289      0.984944   8.24637e-05\n",
      "202.898      60.3937       0      0.311302      0.978888   8.25590e-05\n",
      "========================================\n",
      " Variances and Principal Axes\n",
      "                 1        3        4  \n",
      " 7.2839E-10|  0.0001  -0.0001   1.0000  \n",
      " 6.2528E-01| -0.0123  -0.9999  -0.0001  \n",
      " 1.0401E+04|  0.9999  -0.0123  -0.0001  \n",
      "----------------------------------------\n",
      "\n",
      "====================================\n",
      "  Covariance Matrix\n",
      "        1           2           3   \n",
      "   1.040e+04  -1.278e+02  -9.830e-01\n",
      "  -1.278e+02   2.195e+00   1.212e-02\n",
      "  -9.830e-01   1.212e-02   9.292e-05\n",
      "------------------------------------\n",
      "\n",
      "========================================================================\n",
      "Model bknpower<1> Source No.: 1   Active/On\n",
      "Model Model Component  Parameter  Unit     Value\n",
      " par  comp\n",
      "   1    1   bknpower   PhoIndx1            0.311302     +/-  101.975      \n",
      "   2    1   bknpower   BreakE     keV      0.325898     frozen\n",
      "   3    1   bknpower   PhoIndx2            0.978888     +/-  1.48165      \n",
      "   4    1   bknpower   norm                8.25590E-05  +/-  9.63939E-03  \n",
      "________________________________________________________________________\n",
      "\n",
      "\n",
      "Fit statistic  : Chi-Squared                  202.90     using 282 bins.\n",
      "\n",
      "***Warning: Chi-square may not be valid due to bins with zero variance\n",
      "            in spectrum number: 1\n",
      "\n",
      "Test statistic : Chi-Squared                  202.90     using 282 bins.\n",
      "\n",
      "***Warning: Chi-square may not be valid due to bins with zero variance\n",
      "            in spectrum number(s): 1 \n",
      "\n",
      " Null hypothesis probability of 1.00e+00 with 279 degrees of freedom\n"
     ]
    }
   ],
   "source": [
    "xspec.Fit.perform()"
   ]
  },
  {
   "cell_type": "code",
   "execution_count": 14,
   "id": "8f141e7a",
   "metadata": {},
   "outputs": [
    {
     "name": "stdout",
     "output_type": "stream",
     "text": [
      "Photon Index1: 0.31130169870750773\n",
      "Photon Index2: 0.9788880433336119\n",
      "Ep: 0.3258984375 keV\n"
     ]
    }
   ],
   "source": [
    "# Print parameter values\n",
    "print(\"Photon Index1:\", model.bknpower.PhoIndx1.values[0])\n",
    "print(\"Photon Index2:\", model.bknpower.PhoIndx2.values[0])\n",
    "print(\"Ep:\",Ep,\"keV\")"
   ]
  },
  {
   "cell_type": "code",
   "execution_count": 15,
   "id": "72b217d3",
   "metadata": {},
   "outputs": [],
   "source": [
    "#Plotting\n",
    "xspec.Plot.device = \"/xs\" \n",
    "xspec.Plot(\"data model\")"
   ]
  },
  {
   "cell_type": "code",
   "execution_count": 16,
   "id": "8236e3ff",
   "metadata": {},
   "outputs": [
    {
     "data": {
      "text/plain": [
       "<matplotlib.legend.Legend at 0x7f87f21ee790>"
      ]
     },
     "execution_count": 16,
     "metadata": {},
     "output_type": "execute_result"
    },
    {
     "data": {
      "image/png": "[encoded data removed]",
      "text/plain": [
       "<Figure size 640x480 with 1 Axes>"
      ]
     },
     "metadata": {},
     "output_type": "display_data"
    }
   ],
   "source": [
    "# Extract data from XSPEC\n",
    "xspec.Plot(\"model\")  # Load model\n",
    "model_x = np.array(xspec.Plot.x())   \n",
    "model_y = np.array(xspec.Plot.model())  \n",
    "\n",
    "#Create a log-log plot\n",
    "plot.scatter(energy, counts)\n",
    "plot.plot(model_x, model_y, label=\"Broken Power-Law Model\", color='red', linestyle='--')\n",
    "plot.xscale(\"log\")\n",
    "plot.yscale(\"log\")\n",
    "plot.xlabel(\"Energy (keV)\")\n",
    "plot.ylabel(\"Counts\")\n",
    "plot.legend()"
   ]
  }
 ],
 "metadata": {
  "kernelspec": {
   "display_name": "Python 3",
   "language": "python",
   "name": "python3"
  },
  "language_info": {
   "codemirror_mode": {
    "name": "ipython",
    "version": 3
   },
   "file_extension": ".py",
   "mimetype": "text/x-python",
   "name": "python",
   "nbconvert_exporter": "python",
   "pygments_lexer": "ipython3",
   "version": "3.9.7"
  }
 },
 "nbformat": 4,
 "nbformat_minor": 5
}
