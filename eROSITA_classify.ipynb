{
 "cells": [
  {
   "cell_type": "code",
   "execution_count": 153,
   "metadata": {},
   "outputs": [],
   "source": [
    "import numpy as np\n",
    "import pandas as pd\n",
    "import sklearn\n",
    "import matplotlib.pyplot as plot\n",
    "from sklearn.neighbors import KNeighborsClassifier\n",
    "from collections import Counter"
   ]
  },
  {
   "cell_type": "code",
   "execution_count": 172,
   "metadata": {},
   "outputs": [],
   "source": [
    "#Importing the data\n",
    "data = pd.read_excel(r\"C:\\Users\\Abhimkul\\Downloads\\Variables and Transients.xlsx\")\n",
    "flux = data[\"Flux (mW/m^2)\"].dropna().to_numpy().reshape(-1,1)\n",
    "lum = data[\"Luminosity (ergs/sec)\"].dropna().to_numpy()\n",
    "dist = data[\"Distance\"].dropna().to_numpy()\n",
    "sr_class = data[\"Source Class\"].dropna().to_numpy()\n",
    "sr_no = np.linspace(1,746,746)"
   ]
  },
  {
   "cell_type": "code",
   "execution_count": 173,
   "metadata": {},
   "outputs": [
    {
     "name": "stdout",
     "output_type": "stream",
     "text": [
      "Counter({'SS_IB': 430, 'YSO': 107, 'IB': 104, 'IB_ACS': 51, 'CV': 37, 'LPV': 12, 'XRB': 3, 'WR': 1, 'PSR': 1})\n",
      "k =  9\n"
     ]
    }
   ],
   "source": [
    "#Checking the source class\n",
    "count = Counter(sr_class)\n",
    "print(count)\n",
    "print(\"k = \", len(count))"
   ]
  },
  {
   "cell_type": "code",
   "execution_count": 174,
   "metadata": {},
   "outputs": [
    {
     "data": {
      "text/plain": [
       "(746, 1)"
      ]
     },
     "execution_count": 174,
     "metadata": {},
     "output_type": "execute_result"
    }
   ],
   "source": [
    "np.shape(flux)"
   ]
  },
  {
   "cell_type": "code",
   "execution_count": 175,
   "metadata": {},
   "outputs": [],
   "source": [
    "#Replacing sources by their numbers\n",
    "sr_class_new = sr_class\n",
    "\n",
    "sr_class_new[sr_class_new  == \"SS_IB\"] = 0\n",
    "sr_class_new[sr_class_new  == \"YSO\"] = 1\n",
    "sr_class_new[sr_class_new  == \"IB\"] = 2\n",
    "sr_class_new[sr_class_new  == \"IB_ACS\"] = 3\n",
    "sr_class_new[sr_class_new  == \"CV\"] = 4\n",
    "sr_class_new[sr_class_new  == \"LPV\"] = 5\n",
    "sr_class_new[sr_class_new  == \"XRB\"] = 6\n",
    "sr_class_new[sr_class_new  == \"WR\"] = 7\n",
    "sr_class_new[sr_class_new  == \"PSR\"] = 8"
   ]
  },
  {
   "cell_type": "code",
   "execution_count": 176,
   "metadata": {},
   "outputs": [
    {
     "data": {
      "text/plain": [
       "KNeighborsClassifier(n_neighbors=9, weights='distance')"
      ]
     },
     "execution_count": 176,
     "metadata": {},
     "output_type": "execute_result"
    }
   ],
   "source": [
    "# K-Nearest neighbour classification\n",
    "k_nn = KNeighborsClassifier(n_neighbors = 9, weights=\"distance\")\n",
    "target = np.array(sr_class_new, dtype=int)  \n",
    "\n",
    "#Data \n",
    "data_1 = np.column_stack((flux,dist,lum))\n",
    "\n",
    "#KNN classification\n",
    "k_nn.fit(data_1,target)"
   ]
  },
  {
   "cell_type": "code",
   "execution_count": 186,
   "metadata": {},
   "outputs": [
    {
     "data": {
      "text/plain": [
       "array([8])"
      ]
     },
     "execution_count": 186,
     "metadata": {},
     "output_type": "execute_result"
    }
   ],
   "source": [
    "#Checking\n",
    "new_data = np.array([[1.06e-12,120,1.82e30]])\n",
    "k_nn.predict(new_data)"
   ]
  }
 ],
 "metadata": {
  "kernelspec": {
   "display_name": "base",
   "language": "python",
   "name": "python3"
  },
  "language_info": {
   "codemirror_mode": {
    "name": "ipython",
    "version": 3
   },
   "file_extension": ".py",
   "mimetype": "text/x-python",
   "name": "python",
   "nbconvert_exporter": "python",
   "pygments_lexer": "ipython3",
   "version": "3.9.7"
  }
 },
 "nbformat": 4,
 "nbformat_minor": 2
}
