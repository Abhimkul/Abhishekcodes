{
 "cells": [
  {
   "cell_type": "code",
   "execution_count": 56,
   "metadata": {},
   "outputs": [],
   "source": [
    "import numpy as np\n",
    "import pandas as pd\n",
    "import sklearn\n",
    "import matplotlib.pyplot as plot\n",
    "from sklearn.neighbors import KNeighborsClassifier\n",
    "from sklearn.preprocessing import StandardScaler\n",
    "from sklearn.metrics import accuracy_score\n",
    "import os\n",
    "from collections import Counter"
   ]
  },
  {
   "cell_type": "code",
   "execution_count": 57,
   "metadata": {},
   "outputs": [],
   "source": [
    "#Data file\n",
    "file = os.chdir(\"/home/abhi/Desktop/eROSITA/\")"
   ]
  },
  {
   "cell_type": "code",
   "execution_count": 58,
   "metadata": {},
   "outputs": [],
   "source": [
    "#Importing the data and model parameters\n",
    "data = pd.read_excel(\"Variables and Transients.xlsx\")\n",
    "#.reshape(-1,1)\n",
    "lum_x = data[\"Luminosity (ergs/sec)\"].dropna().to_numpy().reshape(-1,1)\n",
    "dist = data[\"Distance\"].dropna().to_numpy().reshape(-1,1)\n",
    "sr_class = data[\"Source Class\"].dropna().to_numpy()\n",
    "bp_rp = data[\"bp_rp\"].dropna().to_numpy().reshape(-1,1)\n",
    "Absolute_G = data[\"Absolute G\"].dropna().to_numpy().reshape(-1,1)\n",
    "Temp = data[\"Temp (Kelvin)\"].dropna().to_numpy().reshape(-1,1)\n",
    "o_period= data[\"Final period\"].to_numpy().reshape(-1,1)\n",
    "lum_o = data[\"luminosity_GAIA (ergs/sec)\"].dropna().to_numpy().reshape(-1,1)\n",
    "radius = data[\"RADIUS\"].to_numpy().reshape(-1,1)\n",
    "galac_coord_LA = data[\"Lattitude\"].dropna()\n",
    "galac_coord_LG = data[\"Longitude\"].dropna()\n",
    "sr_no = np.linspace(1,746,746)"
   ]
  },
  {
   "cell_type": "code",
   "execution_count": 59,
   "metadata": {},
   "outputs": [
    {
     "name": "stdout",
     "output_type": "stream",
     "text": [
      "lum_x (746, 1)\n",
      "lum_o (746, 1)\n",
      "dist (746, 1)\n",
      "orbital period (758, 1)\n",
      "bp-rp (746, 1)\n",
      "Temp (745, 1)\n",
      "radius (758, 1)\n",
      "Absolute_G (746, 1)\n",
      "Galactic coordinates (746,)\n",
      "Galactic coordinates (746,)\n"
     ]
    }
   ],
   "source": [
    "#Checking the shapes\n",
    "print(\"lum_x\",np.shape(lum_x))\n",
    "print(\"lum_o\",np.shape(lum_o))\n",
    "print(\"dist\",np.shape(dist))\n",
    "print(\"orbital period\",np.shape(o_period))\n",
    "print(\"bp-rp\",np.shape(bp_rp))\n",
    "print(\"Temp\", np.shape(Temp))\n",
    "print(\"radius\", np.shape(radius))\n",
    "print(\"Absolute_G\", np.shape(Absolute_G))\n",
    "print(\"Galactic coordinates\", np.shape(galac_coord_LA))\n",
    "print(\"Galactic coordinates\", np.shape(galac_coord_LG))"
   ]
  },
  {
   "cell_type": "code",
   "execution_count": 60,
   "metadata": {},
   "outputs": [],
   "source": [
    "#Changing the elements to zero\n",
    "lum_o[lum_o == \"--\"] = 0\n",
    "Temp[Temp == \"--\"] = 0\n",
    "radius[radius == \"--\"] = 0\n",
    "n = 12\n",
    "o_period = o_period[:-n]\n",
    "radius = radius[:-n]"
   ]
  },
  {
   "cell_type": "code",
   "execution_count": 61,
   "metadata": {},
   "outputs": [
    {
     "name": "stdout",
     "output_type": "stream",
     "text": [
      "746\n",
      "746\n",
      "745\n",
      "746\n"
     ]
    }
   ],
   "source": [
    "#Checking the length of the array\n",
    "print(len(radius))\n",
    "print(len(dist))\n",
    "print(len(Temp))\n",
    "print(len(o_period))\n",
    "Temp[0]\n",
    "Temp = np.insert(Temp, 0, 0)"
   ]
  },
  {
   "cell_type": "code",
   "execution_count": 62,
   "metadata": {},
   "outputs": [
    {
     "name": "stdout",
     "output_type": "stream",
     "text": [
      "Counter({'SS_IB': 430, 'YSO': 107, 'IB': 104, 'IB_ACS': 51, 'CV': 37, 'LPV': 12, 'XRB': 3, 'WR': 1, 'PSR': 1})\n",
      "k =  9\n"
     ]
    }
   ],
   "source": [
    "#Checking the source class\n",
    "count = Counter(sr_class)\n",
    "print(count)\n",
    "print(\"k = \", len(count))"
   ]
  },
  {
   "cell_type": "code",
   "execution_count": 63,
   "metadata": {},
   "outputs": [],
   "source": [
    "class_1 = [\"SS_IB\", \"YSO\", \"IB\",\"IB_ACS\", \"CV\", \"LPV\", \"XRB\", \"WR\", \"PSR\"]"
   ]
  },
  {
   "cell_type": "code",
   "execution_count": 64,
   "metadata": {},
   "outputs": [],
   "source": [
    "#Replacing sources by their numbers\n",
    "sr_class_new = sr_class\n",
    "\n",
    "sr_class_new[sr_class_new  == \"SS_IB\"] = 0\n",
    "sr_class_new[sr_class_new  == \"YSO\"] = 1\n",
    "sr_class_new[sr_class_new  == \"IB\"] = 2\n",
    "sr_class_new[sr_class_new  == \"IB_ACS\"] = 3\n",
    "sr_class_new[sr_class_new  == \"CV\"] = 4\n",
    "sr_class_new[sr_class_new  == \"LPV\"] = 5\n",
    "sr_class_new[sr_class_new  == \"XRB\"] = 6\n",
    "sr_class_new[sr_class_new  == \"WR\"] = 7\n",
    "sr_class_new[sr_class_new  == \"PSR\"] = 8"
   ]
  },
  {
   "cell_type": "code",
   "execution_count": 70,
   "metadata": {},
   "outputs": [
    {
     "name": "stdout",
     "output_type": "stream",
     "text": [
      "KNeighborsClassifier(n_neighbors=27, weights='distance')\n"
     ]
    }
   ],
   "source": [
    "# K-Nearest neighbour classification\n",
    "k_nn = KNeighborsClassifier(n_neighbors = 27, weights=\"distance\")\n",
    "target = np.array(sr_class_new, dtype=int)  \n",
    "\n",
    "#Data and Standardization\n",
    "data_1 = np.column_stack((lum_x,dist,bp_rp,Absolute_G,lum_o,Temp,radius,galac_coord_LA,galac_coord_LG))#,o_period)) = how to adjust the nan vals\n",
    "scalar = StandardScaler()\n",
    "data_1_scaled = scalar.fit_transform(data_1)\n",
    "#KNN classification\n",
    "y_knn = k_nn.fit(data_1,target)\n",
    "print(y_knn)"
   ]
  },
  {
   "cell_type": "code",
   "execution_count": null,
   "metadata": {},
   "outputs": [
    {
     "name": "stdout",
     "output_type": "stream",
     "text": [
      "The new source belongs to the class: IB\n"
     ]
    },
    {
     "data": {
      "text/plain": [
       "array([2])"
      ]
     },
     "execution_count": 84,
     "metadata": {},
     "output_type": "execute_result"
    }
   ],
   "source": [
    "#Predict\n",
    "lum_x_ = 6.67e30\n",
    "dist_ = 147\n",
    "bp_rp_ = 2.11\n",
    "Absolute_G_ = 2.7\n",
    "lum_o_ = 14.2\n",
    "Temp_ = 8978\n",
    "radius_ = 1.77\n",
    "galac_coord_LA_ = 326\n",
    "galac_coord_LG_ = 21.5\n",
    "\n",
    "\n",
    "source = [lum_x_,dist_,bp_rp_,Absolute_G_,lum_o_,Temp_,radius_,galac_coord_LA_,galac_coord_LG_]\n",
    "source = [source]\n",
    "\n",
    "result = y_knn.predict(source)\n",
    "print(\"The new source belongs to the class:\",class_1[result[0]])"
   ]
  }
 ],
 "metadata": {
  "kernelspec": {
   "display_name": "Python 3",
   "language": "python",
   "name": "python3"
  },
  "language_info": {
   "codemirror_mode": {
    "name": "ipython",
    "version": 3
   },
   "file_extension": ".py",
   "mimetype": "text/x-python",
   "name": "python",
   "nbconvert_exporter": "python",
   "pygments_lexer": "ipython3",
   "version": "3.9.7"
  }
 },
 "nbformat": 4,
 "nbformat_minor": 2
}
